{
 "cells": [
  {
   "cell_type": "code",
   "execution_count": 2,
   "metadata": {},
   "outputs": [],
   "source": [
    "from sklearn.datasets import load_svmlight_file\n",
    "\n",
    "train = load_svmlight_file(f='./MSLR-WEB10K/Fold1/train.txt')\n",
    "test = load_svmlight_file(f='./MSLR-WEB10K/Fold1/test.txt')\n",
    "\n",
    "X_train, y_train = train[0], train[1]\n",
    "X_test, y_test = test[0], test[1]\n",
    "\n",
    "X_train = X_train[:, 0:50]\n",
    "X_test = X_test[:, 0:50]\n"
   ]
  },
  {
   "cell_type": "code",
   "execution_count": 4,
   "metadata": {},
   "outputs": [
    {
     "name": "stdout",
     "output_type": "stream",
     "text": [
      "SVC(C=1.0, cache_size=200, class_weight=None, coef0=0.0,\n",
      "  decision_function_shape='ovr', degree=3, gamma='auto', kernel='linear',\n",
      "  max_iter=1000, probability=False, random_state=None, shrinking=True,\n",
      "  tol=0.001, verbose=True)\n"
     ]
    }
   ],
   "source": [
    "from sklearn import svm\n",
    "from sklearn import preprocessing\n",
    "\n",
    "clf = svm.SVC(max_iter=1000, verbose=True, kernel='linear')\n",
    "print(clf)\n",
    "\n",
    "scaler = preprocessing.StandardScaler(with_mean=False).fit(X_train)"
   ]
  },
  {
   "cell_type": "code",
   "execution_count": 3,
   "metadata": {
    "scrolled": true
   },
   "outputs": [
    {
     "name": "stdout",
     "output_type": "stream",
     "text": [
      "[LibSVM]"
     ]
    },
    {
     "name": "stderr",
     "output_type": "stream",
     "text": [
      "/Users/frederikschubert/Virtualenvs/fpir/lib/python3.6/site-packages/sklearn/svm/base.py:218: ConvergenceWarning: Solver terminated early (max_iter=1000).  Consider pre-processing your data with StandardScaler or MinMaxScaler.\n",
      "  % self.max_iter, ConvergenceWarning)\n"
     ]
    },
    {
     "name": "stdout",
     "output_type": "stream",
     "text": [
      "             precision    recall  f1-score   support\n",
      "\n",
      "        0.0       0.63      0.01      0.01    124784\n",
      "        1.0       0.11      0.01      0.01     77896\n",
      "        2.0       0.16      0.10      0.12     32459\n",
      "        3.0       0.01      0.28      0.02      4450\n",
      "        4.0       0.01      0.72      0.02      1932\n",
      "\n",
      "avg / total       0.38      0.03      0.03    241521\n",
      "\n"
     ]
    }
   ],
   "source": [
    "from sklearn.metrics import classification_report\n",
    "\n",
    "clf.fit(scaler.transform(X_train), y_train)\n",
    "\n",
    "y_pred = clf.predict(scaler.transform(X_test))\n",
    "\n",
    "print(classification_report(y_test, y_pred))"
   ]
  },
  {
   "cell_type": "code",
   "execution_count": null,
   "metadata": {},
   "outputs": [],
   "source": [
    "from sklearn.ensemble import RandomForestClassifier\n",
    "\n",
    "clf = RandomForestClassifier(n_jobs=7, verbose=True)\n",
    "clf.fit(scaler.transform(X_train), y_train)\n",
    "\n",
    "y_pred = clf.predict(scaler.transform(X_test))\n",
    "\n",
    "print(classification_report(y_test, y_pred))"
   ]
  }
 ],
 "metadata": {
  "kernelspec": {
   "display_name": "Python 3",
   "language": "python",
   "name": "python3"
  },
  "language_info": {
   "codemirror_mode": {
    "name": "ipython",
    "version": 3
   },
   "file_extension": ".py",
   "mimetype": "text/x-python",
   "name": "python",
   "nbconvert_exporter": "python",
   "pygments_lexer": "ipython3",
   "version": "3.6.3"
  }
 },
 "nbformat": 4,
 "nbformat_minor": 2
}
